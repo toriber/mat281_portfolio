{
 "cells": [
  {
   "cell_type": "markdown",
   "metadata": {
    "Collapsed": "false",
    "slideshow": {
     "slide_type": "slide"
    }
   },
   "source": [
    "<img src=\"https://upload.wikimedia.org/wikipedia/commons/4/47/Logo_UTFSM.png\" width=\"200\" alt=\"utfsm-logo\" align=\"left\"/>\n",
    "\n",
    "# MAT281\n",
    "### Aplicaciones de la Matemática en la Ingeniería"
   ]
  },
  {
   "cell_type": "markdown",
   "metadata": {
    "Collapsed": "false",
    "slideshow": {
     "slide_type": "slide"
    }
   },
   "source": [
    "## Módulo 04\n",
    "## Laboratorio Clase 04: Métricas y selección de modelos"
   ]
  },
  {
   "cell_type": "markdown",
   "metadata": {
    "Collapsed": "false"
   },
   "source": [
    "### Instrucciones\n",
    "\n",
    "\n",
    "* Completa tus datos personales (nombre y rol USM) en siguiente celda.\n",
    "* La escala es de 0 a 4 considerando solo valores enteros.\n",
    "* Debes _pushear_ tus cambios a tu repositorio personal del curso.\n",
    "* Como respaldo, debes enviar un archivo .zip con el siguiente formato `mXX_cYY_lab_apellido_nombre.zip` a alonso.ogueda@gmail.com, debe contener todo lo necesario para que se ejecute correctamente cada celda, ya sea datos, imágenes, scripts, etc.\n",
    "* Se evaluará:\n",
    "    - Soluciones\n",
    "    - Código\n",
    "    - Que Binder esté bien configurado.\n",
    "    - Al presionar  `Kernel -> Restart Kernel and Run All Cells` deben ejecutarse todas las celdas sin error."
   ]
  },
  {
   "cell_type": "markdown",
   "metadata": {
    "Collapsed": "false"
   },
   "source": [
    "__Nombre__: Bernardo Recabarren\n",
    "\n",
    "__Rol__:201610004-0"
   ]
  },
  {
   "cell_type": "markdown",
   "metadata": {
    "Collapsed": "false"
   },
   "source": [
    "En este laboratorio utilizaremos el conjunto de datos _Abolone_. "
   ]
  },
  {
   "cell_type": "markdown",
   "metadata": {
    "Collapsed": "false"
   },
   "source": [
    "**Recuerdo**\n",
    "\n",
    "La base de datos contiene mediciones a 4177 abalones, donde las mediciones posibles son sexo ($S$), peso entero $W_1$, peso sin concha $W_2$, peso de visceras $W_3$, peso de concha  $W_4$, largo ($L$), diametro $D$, altura $H$, y el número de anillos $A$. "
   ]
  },
  {
   "cell_type": "code",
   "execution_count": 1,
   "metadata": {
    "Collapsed": "false"
   },
   "outputs": [],
   "source": [
    "import pandas as pd\n",
    "import numpy as np"
   ]
  },
  {
   "cell_type": "code",
   "execution_count": 2,
   "metadata": {
    "Collapsed": "false"
   },
   "outputs": [
    {
     "data": {
      "text/html": [
       "<div>\n",
       "<style scoped>\n",
       "    .dataframe tbody tr th:only-of-type {\n",
       "        vertical-align: middle;\n",
       "    }\n",
       "\n",
       "    .dataframe tbody tr th {\n",
       "        vertical-align: top;\n",
       "    }\n",
       "\n",
       "    .dataframe thead th {\n",
       "        text-align: right;\n",
       "    }\n",
       "</style>\n",
       "<table border=\"1\" class=\"dataframe\">\n",
       "  <thead>\n",
       "    <tr style=\"text-align: right;\">\n",
       "      <th></th>\n",
       "      <th>sex</th>\n",
       "      <th>length</th>\n",
       "      <th>diameter</th>\n",
       "      <th>height</th>\n",
       "      <th>whole_weight</th>\n",
       "      <th>shucked_weight</th>\n",
       "      <th>viscera_weight</th>\n",
       "      <th>shell_weight</th>\n",
       "      <th>rings</th>\n",
       "    </tr>\n",
       "  </thead>\n",
       "  <tbody>\n",
       "    <tr>\n",
       "      <td>0</td>\n",
       "      <td>1.0</td>\n",
       "      <td>0.455</td>\n",
       "      <td>0.365</td>\n",
       "      <td>0.095</td>\n",
       "      <td>0.5140</td>\n",
       "      <td>0.2245</td>\n",
       "      <td>0.1010</td>\n",
       "      <td>0.150</td>\n",
       "      <td>15.0</td>\n",
       "    </tr>\n",
       "    <tr>\n",
       "      <td>1</td>\n",
       "      <td>1.0</td>\n",
       "      <td>0.350</td>\n",
       "      <td>0.265</td>\n",
       "      <td>0.090</td>\n",
       "      <td>0.2255</td>\n",
       "      <td>0.0995</td>\n",
       "      <td>0.0485</td>\n",
       "      <td>0.070</td>\n",
       "      <td>7.0</td>\n",
       "    </tr>\n",
       "    <tr>\n",
       "      <td>2</td>\n",
       "      <td>-1.0</td>\n",
       "      <td>0.530</td>\n",
       "      <td>0.420</td>\n",
       "      <td>0.135</td>\n",
       "      <td>0.6770</td>\n",
       "      <td>0.2565</td>\n",
       "      <td>0.1415</td>\n",
       "      <td>0.210</td>\n",
       "      <td>9.0</td>\n",
       "    </tr>\n",
       "    <tr>\n",
       "      <td>3</td>\n",
       "      <td>1.0</td>\n",
       "      <td>0.440</td>\n",
       "      <td>0.365</td>\n",
       "      <td>0.125</td>\n",
       "      <td>0.5160</td>\n",
       "      <td>0.2155</td>\n",
       "      <td>0.1140</td>\n",
       "      <td>0.155</td>\n",
       "      <td>10.0</td>\n",
       "    </tr>\n",
       "    <tr>\n",
       "      <td>4</td>\n",
       "      <td>0.0</td>\n",
       "      <td>0.330</td>\n",
       "      <td>0.255</td>\n",
       "      <td>0.080</td>\n",
       "      <td>0.2050</td>\n",
       "      <td>0.0895</td>\n",
       "      <td>0.0395</td>\n",
       "      <td>0.055</td>\n",
       "      <td>7.0</td>\n",
       "    </tr>\n",
       "  </tbody>\n",
       "</table>\n",
       "</div>"
      ],
      "text/plain": [
       "   sex  length  diameter  height  whole_weight  shucked_weight  \\\n",
       "0  1.0   0.455     0.365   0.095        0.5140          0.2245   \n",
       "1  1.0   0.350     0.265   0.090        0.2255          0.0995   \n",
       "2 -1.0   0.530     0.420   0.135        0.6770          0.2565   \n",
       "3  1.0   0.440     0.365   0.125        0.5160          0.2155   \n",
       "4  0.0   0.330     0.255   0.080        0.2050          0.0895   \n",
       "\n",
       "   viscera_weight  shell_weight  rings  \n",
       "0          0.1010         0.150   15.0  \n",
       "1          0.0485         0.070    7.0  \n",
       "2          0.1415         0.210    9.0  \n",
       "3          0.1140         0.155   10.0  \n",
       "4          0.0395         0.055    7.0  "
      ]
     },
     "execution_count": 2,
     "metadata": {},
     "output_type": "execute_result"
    }
   ],
   "source": [
    "abalone = pd.read_csv(\n",
    "    \"data/abalone.data\",\n",
    "    header=None,\n",
    "    names=[\"sex\", \"length\", \"diameter\", \"height\", \"whole_weight\", \"shucked_weight\", \"viscera_weight\", \"shell_weight\", \"rings\"]\n",
    ")\n",
    "\n",
    "abalone_data = (\n",
    "    abalone.assign(sex=lambda x: x[\"sex\"].map({\"M\": 1, \"I\": 0, \"F\": -1}))\n",
    "    .loc[lambda x: x.drop(columns=\"sex\").gt(0).all(axis=1)]\n",
    "    .astype(np.float)\n",
    ")\n",
    "abalone_data.head()"
   ]
  },
  {
   "cell_type": "markdown",
   "metadata": {
    "Collapsed": "false"
   },
   "source": [
    "#### Modelo A\n",
    "Consideramos 9 parámetros, llamados $\\alpha_i$, para el siguiente modelo:\n",
    "$$ \\log(A) = \\alpha_0 +  \\alpha_1 W_1 + \\alpha_2 W_2 +\\alpha_3 W_3 +\\alpha_4 W_4 + \\alpha_5 S + \\alpha_6 \\log L + \\alpha_7 \\log D+  \\alpha_8 \\log H$$"
   ]
  },
  {
   "cell_type": "code",
   "execution_count": 3,
   "metadata": {
    "Collapsed": "false"
   },
   "outputs": [],
   "source": [
    "def train_model_A(data):\n",
    "    y = np.log(data.loc[:, \"rings\"].values.ravel())\n",
    "    X = (\n",
    "        data.assign(\n",
    "            intercept=1.,\n",
    "            length=lambda x: x[\"length\"].apply(np.log),\n",
    "            diameter=lambda x: x[\"diameter\"].apply(np.log),\n",
    "            height=lambda x: x[\"height\"].apply(np.log),\n",
    "        )\n",
    "        .loc[: , [\"intercept\", \"whole_weight\", \"shucked_weight\", \"viscera_weight\", \"shell_weight\", \"sex\", \"length\", \"diameter\", \"height\"]]\n",
    "        .values\n",
    "    )\n",
    "    coeffs = np.linalg.lstsq(X, y, rcond=None)[0]\n",
    "    return coeffs\n",
    "\n",
    "def test_model_A(data, coeffs):\n",
    "    X = (\n",
    "        data.assign(\n",
    "            intercept=1.,\n",
    "            length=lambda x: x[\"length\"].apply(np.log),\n",
    "            diameter=lambda x: x[\"diameter\"].apply(np.log),\n",
    "            height=lambda x: x[\"height\"].apply(np.log),\n",
    "        )\n",
    "        .loc[: , [\"intercept\", \"whole_weight\", \"shucked_weight\", \"viscera_weight\", \"shell_weight\", \"sex\", \"length\", \"diameter\", \"height\"]]\n",
    "        .values\n",
    "    )\n",
    "    ln_anillos = np.dot(X, coeffs)\n",
    "    return np.exp(ln_anillos)"
   ]
  },
  {
   "cell_type": "markdown",
   "metadata": {
    "Collapsed": "false"
   },
   "source": [
    "#### Modelo B\n",
    "Consideramos 6 parámetros, llamados $\\beta_i$, para el siguiente modelo:\n",
    "$$ \\log(A) = \\beta_0 + \\beta_1 W_1 + \\beta_2 W_2 +\\beta_3 W_3 +\\beta W_4 + \\beta_5 \\log( L  D H ) $$"
   ]
  },
  {
   "cell_type": "code",
   "execution_count": 4,
   "metadata": {
    "Collapsed": "false"
   },
   "outputs": [],
   "source": [
    "def train_model_B(data):\n",
    "    y = np.log(data.loc[:, \"rings\"].values.ravel())\n",
    "    X = (\n",
    "        data.assign(\n",
    "            intercept=1.,\n",
    "            ldh=lambda x: (x[\"length\"] * x[\"diameter\"] * x[\"height\"]).apply(np.log),\n",
    "        )\n",
    "        .loc[: , [\"intercept\", \"whole_weight\", \"shucked_weight\", \"viscera_weight\", \"shell_weight\", \"ldh\"]]\n",
    "        .values\n",
    "    )\n",
    "    coeffs = np.linalg.lstsq(X, y, rcond=None)[0]\n",
    "    return coeffs\n",
    "\n",
    "def test_model_B(data, coeffs):\n",
    "    X = (\n",
    "        data.assign(\n",
    "            intercept=1.,\n",
    "            ldh=lambda x: (x[\"length\"] * x[\"diameter\"] * x[\"height\"]).apply(np.log),\n",
    "        )\n",
    "        .loc[: , [\"intercept\", \"whole_weight\", \"shucked_weight\", \"viscera_weight\", \"shell_weight\", \"ldh\"]]\n",
    "        .values\n",
    "    )\n",
    "    ln_anillos = np.dot(X, coeffs)\n",
    "    return np.exp(ln_anillos)"
   ]
  },
  {
   "cell_type": "markdown",
   "metadata": {
    "Collapsed": "false"
   },
   "source": [
    "#### Modelo C\n",
    "Consideramos 12 parámetros, llamados $\\theta_i^{k}$, con $k \\in \\{M, F, I\\}$, para el siguiente modelo:\n",
    "\n",
    "Si $S=male$:\n",
    "$$ \\log(A) = \\theta_0^M + \\theta_1^M W_2  + \\theta_2^M W_4 + \\theta_3^M \\log( L  D H ) $$\n",
    "\n",
    "Si $S=female$\n",
    "$$ \\log(A) = \\theta_0^F + \\theta_1^F W_2  + \\theta_2^F W_4 + \\theta_3^F \\log( L  D H ) $$\n",
    "\n",
    "Si $S=indefined$\n",
    "$$ \\log(A) = \\theta_0^I + \\theta_1^I W_2  + \\theta_2^I W_4 + \\theta_3^I \\log( L  D H ) $$"
   ]
  },
  {
   "cell_type": "code",
   "execution_count": 5,
   "metadata": {
    "Collapsed": "false"
   },
   "outputs": [],
   "source": [
    "def train_model_C(data):\n",
    "    df = (\n",
    "        data.assign(\n",
    "            intercept=1.,\n",
    "            ldh=lambda x: (x[\"length\"] * x[\"diameter\"] * x[\"height\"]).apply(np.log),\n",
    "        )\n",
    "        .loc[: , [\"intercept\", \"shucked_weight\", \"shell_weight\", \"ldh\", \"sex\", \"rings\"]]\n",
    "    )\n",
    "    coeffs_dict = {}\n",
    "    for sex, df_sex in df.groupby(\"sex\"):\n",
    "        X = df_sex.drop(columns=[\"sex\", \"rings\"])\n",
    "        y = np.log(df_sex[\"rings\"].values.ravel())\n",
    "        coeffs_dict[sex] = np.linalg.lstsq(X, y, rcond=None)[0]\n",
    "    return coeffs_dict\n",
    "\n",
    "def test_model_C(data, coeffs_dict):\n",
    "    df = (\n",
    "        data.assign(\n",
    "            intercept=1.,\n",
    "            ldh=lambda x: (x[\"length\"] * x[\"diameter\"] * x[\"height\"]).apply(np.log),\n",
    "        )\n",
    "        .loc[: , [\"intercept\", \"shucked_weight\", \"shell_weight\", \"ldh\", \"sex\", \"rings\"]]\n",
    "    )\n",
    "    pred_dict = {}\n",
    "    for sex, df_sex in df.groupby(\"sex\"):\n",
    "        X = df_sex.drop(columns=[\"sex\", \"rings\"])\n",
    "        ln_anillos = np.dot(X, coeffs_dict[sex])\n",
    "        pred_dict[sex] = np.exp(ln_anillos)\n",
    "    return pred_dict"
   ]
  },
  {
   "cell_type": "markdown",
   "metadata": {
    "Collapsed": "false"
   },
   "source": [
    "### 1. Split Data (1 pto)\n",
    "\n",
    "Crea dos dataframes, uno de entrenamiento (80% de los datos) y otro de test (20% restante de los datos) a partir de `abalone_data`.\n",
    "\n",
    "_Hint:_ `sklearn.model_selection.train_test_split` funciona con dataframes!"
   ]
  },
  {
   "cell_type": "code",
   "execution_count": 6,
   "metadata": {
    "Collapsed": "false"
   },
   "outputs": [
    {
     "ename": "SyntaxError",
     "evalue": "positional argument follows keyword argument (<ipython-input-6-a9475ce8aae7>, line 3)",
     "output_type": "error",
     "traceback": [
      "\u001b[0;36m  File \u001b[0;32m\"<ipython-input-6-a9475ce8aae7>\"\u001b[0;36m, line \u001b[0;32m3\u001b[0m\n\u001b[0;31m    abalone_train, abalone_test = train_test_split(abalone_data,test_size=0.2,random_state)\u001b[0m\n\u001b[0m                                                                             ^\u001b[0m\n\u001b[0;31mSyntaxError\u001b[0m\u001b[0;31m:\u001b[0m positional argument follows keyword argument\n"
     ]
    }
   ],
   "source": [
    "from sklearn.model_selection import train_test_split\n",
    "\n",
    "abalone_train, abalone_test = train_test_split(abalone_data,test_size=0.2,random_state=42)\n",
    "abalone_train.head()"
   ]
  },
  {
   "cell_type": "markdown",
   "metadata": {
    "Collapsed": "false"
   },
   "source": [
    "### 2. Entrenamiento (1 pto)\n",
    "\n",
    "Utilice las funciones de entrenamiento definidas más arriba con tal de obtener los coeficientes para los datos de entrenamiento. Recuerde que para el modelo C se retorna un diccionario donde la llave corresponde a la columna `sex`."
   ]
  },
  {
   "cell_type": "code",
   "execution_count": null,
   "metadata": {
    "Collapsed": "false"
   },
   "outputs": [],
   "source": [
    "coeffs_A = train_model_A(abalone_train)\n",
    "coeffs_B = train_model_B(abalone_train)\n",
    "coeffs_C = train_model_C(abalone_train)"
   ]
  },
  {
   "cell_type": "markdown",
   "metadata": {
    "Collapsed": "false"
   },
   "source": [
    "### 3. Predicción (1 pto)\n",
    "\n",
    "Con los coeficientes de los modelos realize la predicción utilizando el conjunto de test. El resultado debe ser un array de shape `(835, )` por lo que debes concatenar los resultados del modelo C. \n",
    "\n",
    "**Hint**: Usar `np.concatenate`."
   ]
  },
  {
   "cell_type": "code",
   "execution_count": null,
   "metadata": {
    "Collapsed": "false"
   },
   "outputs": [],
   "source": [
    "y_pred_A = test_model_A(abalone_test,coeffs_A)\n",
    "y_pred_B = test_model_B(abalone_test,coeffs_B)\n",
    "y_pred_C = np.concatenate([[j for j in test_model_C(abalone_test,coeffs_C)[x]] for x in test_model_C(abalone_test,coeffs_C).keys()])"
   ]
  },
  {
   "cell_type": "markdown",
   "metadata": {
    "Collapsed": "false"
   },
   "source": [
    "### 4. Cálculo del error (1 pto)\n",
    "\n",
    "Se utilizará el Error Cuadrático Medio (MSE) que se define como \n",
    "\n",
    "$$\\textrm{MSE}(y,\\hat{y}) =\\dfrac{1}{n}\\sum_{t=1}^{n}\\left | y_{t}-\\hat{y}_{t}\\right |^2$$\n",
    "\n",
    "Defina una la función `MSE` y el vectores `y_test_A`, `y_test_B` e `y_test_C` para luego calcular el error para cada modelo. \n",
    "\n",
    "**Ojo:** Nota que al calcular el error cuadrático medio se realiza una resta elemento por elemento, por lo que el orden del vector es importante, en particular para el modelo que separa por `sex`."
   ]
  },
  {
   "cell_type": "code",
   "execution_count": null,
   "metadata": {
    "Collapsed": "false"
   },
   "outputs": [],
   "source": [
    "def MSE(y_real, y_pred):\n",
    "    val= (1/len(y_pred))*sum(abs(y_real-y_pred)**2)\n",
    "    return val"
   ]
  },
  {
   "cell_type": "code",
   "execution_count": null,
   "metadata": {
    "Collapsed": "false"
   },
   "outputs": [],
   "source": [
    "y_test_A = abalone_test[\"rings\"]\n",
    "y_test_B = abalone_test[\"rings\"]\n",
    "y_test_C = np.concatenate([abalone_test.groupby(\"sex\").get_group(i)[\"rings\"] for i in [-1,0,1]])"
   ]
  },
  {
   "cell_type": "code",
   "execution_count": null,
   "metadata": {
    "Collapsed": "false"
   },
   "outputs": [],
   "source": [
    "error_A = MSE(y_test_A,y_pred_A)\n",
    "error_B = MSE(y_test_B,y_pred_B)\n",
    "error_C = MSE(y_test_C,y_pred_C)"
   ]
  },
  {
   "cell_type": "code",
   "execution_count": null,
   "metadata": {
    "Collapsed": "false"
   },
   "outputs": [],
   "source": [
    "print(f\"Error modelo A: {error_A:.2f}\")\n",
    "print(f\"Error modelo B: {error_B:.2f}\")\n",
    "print(f\"Error modelo C: {error_C:.2f}\")"
   ]
  },
  {
   "cell_type": "markdown",
   "metadata": {
    "Collapsed": "false"
   },
   "source": [
    "**¿Cuál es el mejor modelo considerando esta métrica?**"
   ]
  },
  {
   "cell_type": "markdown",
   "metadata": {
    "Collapsed": "false"
   },
   "source": [
    "El mejor modelo considerando como métrica el `MSE` es el modelo B, dado que el error es mas pequeño"
   ]
  }
 ],
 "metadata": {
  "celltoolbar": "Slideshow",
  "kernelspec": {
   "display_name": "Python 3",
   "language": "python",
   "name": "python3"
  },
  "language_info": {
   "codemirror_mode": {
    "name": "ipython",
    "version": 3
   },
   "file_extension": ".py",
   "mimetype": "text/x-python",
   "name": "python",
   "nbconvert_exporter": "python",
   "pygments_lexer": "ipython3",
   "version": "3.7.3"
  }
 },
 "nbformat": 4,
 "nbformat_minor": 4
}
